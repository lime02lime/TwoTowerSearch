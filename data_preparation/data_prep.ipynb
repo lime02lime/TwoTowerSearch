{
 "cells": [
  {
   "cell_type": "code",
   "execution_count": 1,
   "metadata": {},
   "outputs": [
    {
     "name": "stderr",
     "output_type": "stream",
     "text": [
      "c:\\Users\\emile\\Desktop\\Code\\MLX\\TwoTowerSearch\\venv\\Lib\\site-packages\\tqdm\\auto.py:21: TqdmWarning: IProgress not found. Please update jupyter and ipywidgets. See https://ipywidgets.readthedocs.io/en/stable/user_install.html\n",
      "  from .autonotebook import tqdm as notebook_tqdm\n"
     ]
    }
   ],
   "source": [
    "import pandas as pd\n",
    "import numpy as np\n",
    "\n",
    "from datasets import load_dataset\n"
   ]
  },
  {
   "cell_type": "code",
   "execution_count": 2,
   "metadata": {},
   "outputs": [
    {
     "name": "stderr",
     "output_type": "stream",
     "text": [
      "c:\\Users\\emile\\Desktop\\Code\\MLX\\TwoTowerSearch\\venv\\Lib\\site-packages\\huggingface_hub\\file_download.py:144: UserWarning: `huggingface_hub` cache-system uses symlinks by default to efficiently store duplicated files but your machine does not support them in C:\\Users\\emile\\.cache\\huggingface\\hub\\datasets--ms_marco. Caching files will still work but in a degraded version that might require more space on your disk. This warning can be disabled by setting the `HF_HUB_DISABLE_SYMLINKS_WARNING` environment variable. For more details, see https://huggingface.co/docs/huggingface_hub/how-to-cache#limitations.\n",
      "To support symlinks on Windows, you either need to activate Developer Mode or to run Python as an administrator. In order to activate developer mode, see this article: https://docs.microsoft.com/en-us/windows/apps/get-started/enable-your-device-for-development\n",
      "  warnings.warn(message)\n",
      "Generating validation split: 100%|██████████| 101093/101093 [00:01<00:00, 81486.10 examples/s]\n",
      "Generating train split: 100%|██████████| 808731/808731 [00:07<00:00, 101130.82 examples/s]\n",
      "Generating test split: 100%|██████████| 101092/101092 [00:00<00:00, 106439.31 examples/s]\n"
     ]
    }
   ],
   "source": [
    "train_dataset = load_dataset('ms_marco', 'v2.1', split='train')\n",
    "test_dataset = load_dataset('ms_marco', 'v2.1', split='validation')"
   ]
  },
  {
   "cell_type": "code",
   "execution_count": 22,
   "metadata": {},
   "outputs": [
    {
     "data": {
      "text/plain": [
       "{'answers': ['The average temperature of Brooklyn, New York is 52.78°F.'],\n",
       " 'passages': {'is_selected': [0, 0, 0, 0, 0, 0, 0, 0, 1, 0],\n",
       "  'passage_text': ['Currently in Brooklyn as of . 42°(Feels like 39°) Scattered Clouds; Wind: @ 5 mph; Barometer: 30.38 in. Sunrise: 06:53:34 am; Sunset: 05:26:58 pm; Humidity: 49; Visibility: 10 mi. UV Index: 2',\n",
       "   'News 12 Brooklyn Weather Center: Hyper-local weather, live radar, dual Doppler and more. News 12 Brooklyn Weather Center: Hyper-local weather, live radar, dual Doppler and more. Home',\n",
       "   'Home » Local » Weather Report Brooklyn, New York Weather Report · Interactive Map · Extended Forecast · Hourly Forecast · Past Observations · Historic Averages',\n",
       "   \"When we are back up and running you will be prompted at that time to complete your sign in. Until then, enjoy the local news, weather, traffic and more that's as local as local news gets.. back to site.\",\n",
       "   \"Intellicast.com: The Authority in Expert Weather Brooklyn, New York weather conditions and forecast (11256). Today's Brooklyn, New York weather report: current observations, hourly forecast, 10-day forecast calendar and chart. Intellicast.com The Authority in Expert Weather Weather Emails Alerts Hurricanes Help\",\n",
       "   'your first 5 are free. 1  Access to News 12 is free for Optimum, Comcast®, Time Warner® and Service ElectricSM customers. 2  Please enjoy 5 complimentary views of articles, photos, and videos during the next 30 days. 3  Access to News 12 is free for Optimum, Comcast®, Time Warner® and Service ElectricSM customers.',\n",
       "   'Overlays. 1  Storm Tracks. 2  Current. Conditions. 3  Temperature. Plots. 4  Earthquakes. 5  Wildfire. Detection. 6  Lightning. Summary. 7  Active. Tropical Track. 8  Active. Model Track.',\n",
       "   'Find the most current and reliable 7 day weather forecasts, storm alerts, reports and information for Brooklyn, NY, US with The Weather Network.',\n",
       "   'Most / Least Educated Cities in NY. The average temperature of Brooklyn is 52.78°F, which is higher than the New York average temperature of 48.17°F and is lower than the national average temperature of 54.45°F.',\n",
       "   'Brooklyn, NY Weather. The average temperature of Brooklyn is 52.78°F, which is higher than the New York average temperature of 48.17°F and is lower than the national average temperature of 54.45°F.'],\n",
       "  'url': ['http://brooklyn.news12.com/weather',\n",
       "   'http://brooklyn.news12.com/weather',\n",
       "   'http://www.intellicast.com/Local/Weather.aspx?location=USNY0176',\n",
       "   'http://brooklyn.news12.com/weather',\n",
       "   'http://www.intellicast.com/Local/Weather.aspx?location=USNY0176',\n",
       "   'http://brooklyn.news12.com/weather',\n",
       "   'http://brooklyn.news12.com/weather',\n",
       "   'https://www.theweathernetwork.com/us/weather/new-york/brooklyn',\n",
       "   'http://www.usa.com/brooklyn-ny-weather.htm',\n",
       "   'http://www.usa.com/brooklyn-ny-weather.htm']},\n",
       " 'query': 'temperature in brooklyn ny',\n",
       " 'query_id': 1090039,\n",
       " 'query_type': 'NUMERIC',\n",
       " 'wellFormedAnswers': []}"
      ]
     },
     "execution_count": 22,
     "metadata": {},
     "output_type": "execute_result"
    }
   ],
   "source": [
    "# view structure of the passages column in the dataset\n",
    "texts = test_dataset[1321]\n",
    "texts\n"
   ]
  },
  {
   "cell_type": "code",
   "execution_count": null,
   "metadata": {},
   "outputs": [
    {
     "name": "stdout",
     "output_type": "stream",
     "text": [
      "TRAINING TRIPLETS (stage 1):\n",
      "Query: )what was the immediate impact of the success of the manhattan project?\n",
      "Positive: The presence of communication amid scientific minds was equally important to the success of the Manhattan Project as scientific intellect was. The only cloud hanging over the impressive achievement of the atomic researchers and engineers is what their success truly meant; hundreds of thousands of innocent lives obliterated.\n",
      "Negative: If you need help or if you know someone who has a problem with amphetamines, call our helpline at 1-800-943-0566. 1  Related Articles. 2  Find Help Today. 3  Amphetamine Street Names: Terms You Need to Know! - The most common amphetamine street name is speed but it is important to educate yourself about the rest.\n",
      "----------------------------------------\n",
      "Query: _________ justice is designed to repair the harm to victim, the community and the offender caused by the offender criminal act. question 19 options:\n",
      "Positive: The approach is based on a theory of justice that considers crime and wrongdoing to be an offense against an individual or community, rather than the State. Restorative justice that fosters dialogue between victim and offender has shown the highest rates of victim satisfaction and offender accountability.\n",
      "Negative: In 1623, John Hemminges and Henry Condell, two of Shakespeare’s fellow actors in the Lord Chamberlain’s Men, collected 36 of Shakespeare’s plays and had them published in the First Folio. Pericles, Prince of Tyre is the only play attributed to Shakespeare that did not appear in the First Folio.n 1623, John Hemminges and Henry Condell, two of Shakespeare’s fellow actors in the Lord Chamberlain’s Men, collected 36 of Shakespeare’s plays and had them published in the First Folio. Pericles, Prince of Tyre is the only play attributed to Shakespeare that did not appear in the First Folio.\n",
      "----------------------------------------\n",
      "Query: why did stalin want control of eastern europe\n",
      "Positive: There are 3 main reasons why Stalin wanted to control Eastern Europe. 1.) Russia has historically no secure border. 2.) They wanted to set up satellite countries. 3.)\n",
      "Negative: Fortunately, it’s possible to get a sense of where your intake may lie simply by asking yourself a few questions about your lifestyle, and watching for certain signs and signals of low magnesium levels. Learn how to read your signs below, and find out what you can do to ensure magnesium balance and good health.\n",
      "----------------------------------------\n",
      "Query: why do nails get rusty\n",
      "Positive: A: Nails rust in water because water allows the iron to react with any oxygen present, which forms iron oxide, known as rust. In order to cause rust quickly, there must be some impurities in the water, particularly salts, since these speed up the transfer of electrons from iron to oxygen.\n",
      "Negative: An available GM-exclusive Duramax ® 2.8L Turbo-Diesel engine offers best-in-class towing power † and torque, and makes Colorado America’s most fuel-efficient pickup. † When it comes to midsize pickup truck engines, this one goes right to the front of the class.\n",
      "----------------------------------------\n",
      "Query: depona ab\n",
      "Positive: Depona Ab is a library in Vilhelmina, Sweden. The company is located at Slggatan 1. This private company was founded in 1999 (about 16 years ago). A typical library has between 4 and 80 employees, meaning that Depona Ab, with a reported 5 employees, employs a typical amount of people for the industry within Sweden.\n",
      "Negative: I have been diagnosed with BFS, what now? While there are currently no known cures for BFS, and management of BFS symptoms is a subject for some debate, you should keep in contact with your Neurologist to keep abreast of any progress in the treatment of BFS.\n",
      "----------------------------------------\n",
      "Query: nyu tuition cost\n",
      "Positive: tuition for new york university is $ 43746 for the 2014 2015 academic year this is 73 % more expensive than the national average private non profit four year college tuition of $ 25240he net out of pocket total cost you end up paying or financing though student loans is known as the net price the reported new york university net price for in state students $ 34268 for the 2013 2014 academic year this net price includes housing and meal expenses\n",
      "Negative: A Text PDF field is a box or space in which the user can enter text from the keyboard. It is the most commonly used form field, as it creates plain text fields in which the user can type his name, address and so on. You often use unique field name When creating a text form field. If you use the same name for more than one field, data typed in the field box is replicated for all fields with the same name.\n",
      "----------------------------------------\n",
      "Query: at what age do kids start to hold memories\n",
      "Positive: Childhood amnesia, also called infantile amnesia, is the inability of adults to retrieve episodic memories before the age of 2–4 years, as well as the period before age 10 of which adults retain fewer memories than might otherwise be expected given the passage of time.\n",
      "Negative: City of Melrose, MA Zip Codes. 1  City of Melrose, MA Demographic Information. 2  City of Melrose, MA covers 3 Area Codes. 3  City of Melrose, MA covers 1 Zip Code.  79 Cities within 15 Miles of the City of Melrose, MA.\n",
      "----------------------------------------\n",
      "Query: average teeth brushing time\n",
      "Positive: On average, Americans brush for just under the two minutes recommended by dental professionals. African Americans brush 18 seconds longer than Americans as a whole, while younger adults ages 18 to 24 spend 16 seconds longer than average brushing. Nearly six of 10 Americans brush their teeth at bedtime and as soon as they wake up in the morning, while 38 percent brush after breakfast. About 17 percent brush after lunch, and 21 percent brush after dinner.\n",
      "Negative: Here you can find all the LCBO stores in Kingston. To access the details of the store (address, opening hours, website and current offers) click on the address or the store name. LCBO in Kingston-Offers and Catalogues. 1  Catalogues.\n",
      "----------------------------------------\n",
      "Query: is funner a word?\n",
      "Positive: Funner is, of course, a word in the same sense that ponyfraggis is a word, if word is defined as a pronounceable sequence of letters delimited by whitespace. In terms of usage, the frequency of use of More fun vs funner in formal writing suggest that funner is spoken slang. Naturally it is a word, too.\n",
      "Negative: Molecular cytogenetic analysis in splenic lymphoma with villous lymphocytes: frequent allelic imbalance of the RB1 gene but not the D13S25 locus on chromosome 13q14.Garca-Marco JA, Nouel A, Navarro B, Matutes E, Oscier D, Price CM, Catovsky D. Cancer research.linics. splenomegaly without hepatomegaly nor enlarged lymph nodes; monoclonal Ig in a third of cases, autoimmune phenomena in 10% of patients, transformation to high grade lymphoma in 10% of cases. Peripheral blood lymphocytosis in 75% of patients and villous lymphocytes on peripheral blood smears (Fig 1).\n",
      "----------------------------------------\n",
      "Query: what is ce certified\n",
      "Positive: The CE marking is the manufacturer's declaration that the product meets the requirements of the applicable EC directives. Officially, CE is an abbreviation of Conformite Conformité, europeenne Européenne Meaning. european conformity\n",
      "Negative: Historical Tuition and Fees, with Projected Future Amounts. Future projections are based on past four years' data averaging 4.89% annual change in in-state tuition and fees and 2.84% change in out-of-state tuition and fees. Amounts shown are estimates only and not guaranteed. For a better estimate, contact the college directly.\n",
      "----------------------------------------\n",
      "\n",
      "TEST TRIPLETS:\n",
      "Query: . what is a corporation?\n",
      "Positive: McDonald's Corporation is one of the most recognizable corporations in the world. A corporation is a company or group of people authorized to act as a single entity (legally a person) and recognized as such in law. Early incorporated entities were established by charter (i.e. by an ad hoc act granted by a monarch or passed by a parliament or legislature).\n",
      "Negative: Signs that there might be a problem with your occlusion include: 1  Excessive tooth wear. 2  Tooth breakage. 3  Tooth loss.  Previous root 1  canals. Tooth sensitivity.  Head and neck muscle 1  pain. Headaches.  Jaw 1  joint pain. Joint  noises.\n",
      "----------------------------------------\n",
      "Query: why did rachel carson write an obligation to endure\n",
      "Positive: The Obligation to Endure by Rachel Carson Rachel Carson's essay on The Obligation to Endure, is a very convincing argument about the harmful uses of chemicals, pesticides, herbicides, and fertilizers on the environment.\n",
      "Negative: wave interference is the phenomenon that occurs when two waves meet while traveling along the same medium the interference of waves causes the medium to take on a shape that results from the net effect of the two individual waves upon the particles of the medium to begin our exploration of wave interference consider two pulses of the same amplitude traveling in different directions along the same medium\n",
      "----------------------------------------\n",
      "Query: symptoms of a dying mouse\n",
      "Positive: The symptoms are similar but the mouse will be in much worse condition: runny eyes; sneezing; wheezing; shaking; fluctuating body temperature; tiredness; loss of appetite; dull coat; If these symptoms persist or worsen, or the mouse becomes limp and struggles to walk, then the mouse must go to the vet's or it could die. To prevent influenza, do not touch your pet if you have flu, as mice catch it from humans.\n",
      "Negative: Mexican Day of the Dead and Sugar Skull Tattoos for Girls. Day of the Dead Tattoos: History, Meaning, and Personalization. Recently, Mexican Day of the Dead (Día de los Muertos) tattoos have become a coveted design for both guys and girls.\n",
      "----------------------------------------\n"
     ]
    }
   ],
   "source": [
    "\n",
    "from data_prep import create_triplets\n",
    "\n",
    "# Generate triplets\n",
    "train_triplets_stage1 = create_triplets(train_dataset, include_hard_negatives=False)\n",
    "#train_triplets_stage2 = create_triplets(train_dataset, include_hard_negatives=True)\n",
    "\n",
    "test_triplets = create_triplets(test_dataset, include_hard_negatives=False)\n",
    "\n",
    "# Print samples from both train and test sets\n",
    "print(\"TRAINING TRIPLETS (stage 1):\")\n",
    "for t in train_triplets_stage1[:10]:\n",
    "    print(f\"Query: {t[0]}\\nPositive: {t[1]}\\nNegative: {t[2]}\\n{'-'*40}\")\n",
    "\n",
    "#print(\"\\nTRAINING TRIPLETS (stage 2):\")\n",
    "#for t in train_triplets_stage2[:10]:\n",
    "#    print(f\"Query: {t[0]}\\nPositive: {t[1]}\\nNegative: {t[2]}\\n{'-'*40}\")\n",
    "\n",
    "print(\"\\nTEST TRIPLETS:\")\n",
    "for t in test_triplets[:3]:\n",
    "    print(f\"Query: {t[0]}\\nPositive: {t[1]}\\nNegative: {t[2]}\\n{'-'*40}\")"
   ]
  },
  {
   "cell_type": "code",
   "execution_count": 26,
   "metadata": {},
   "outputs": [
    {
     "name": "stdout",
     "output_type": "stream",
     "text": [
      "502939 training triplets - stage 1\n",
      "55578 test triplets\n"
     ]
    }
   ],
   "source": [
    "print(len(train_triplets_stage1), \"training triplets - stage 1\")\n",
    "#print(len(train_triplets_stage2), \"training triplets - stage 2\")\n",
    "print(len(test_triplets), \"test triplets\")"
   ]
  },
  {
   "cell_type": "code",
   "execution_count": 27,
   "metadata": {},
   "outputs": [],
   "source": [
    "from data_prep import save_triplets_to_json\n",
    "\n",
    "# Save triplets\n",
    "save_triplets_to_json(train_triplets_stage1, \"train_triplets_stage1.json\")\n",
    "#save_triplets_to_json(train_triplets_stage2, \"train_triplets_stage2.json\")\n",
    "save_triplets_to_json(test_triplets, \"test_triplets.json\")"
   ]
  },
  {
   "cell_type": "code",
   "execution_count": 8,
   "metadata": {},
   "outputs": [
    {
     "name": "stdout",
     "output_type": "stream",
     "text": [
      "9078734 total passages\n",
      "Passages saved to msmarco_v2_docs.json\n"
     ]
    }
   ],
   "source": [
    "from data_prep import save_passages_to_file\n",
    "\n",
    "# Combine both train, test, and validation passages to get all passages in one list\n",
    "train_passages = [passage for row in train_dataset for passage in row['passages']['passage_text']]\n",
    "test_passages = [passage for row in test_dataset for passage in row['passages']['passage_text']]\n",
    "all_passages = train_passages + test_passages\n",
    "print(len(all_passages), \"total passages\")\n",
    "\n",
    "# Save to a JSON file\n",
    "save_passages_to_file(all_passages, 'msmarco_v2_docs.json')\n"
   ]
  },
  {
   "cell_type": "markdown",
   "metadata": {},
   "source": [
    "### Retrieving texts for database creation"
   ]
  },
  {
   "cell_type": "code",
   "execution_count": null,
   "metadata": {},
   "outputs": [],
   "source": [
    "# load triplets from v1 dataset to be used for database\n",
    "database_dataset_train = load_dataset('ms_marco', 'v1.1', split='train')\n",
    "database_dataset_test = load_dataset('ms_marco', 'v1.1', split='test')\n",
    "database_dataset_val = load_dataset('ms_marco', 'v1.1', split='validation')\n"
   ]
  },
  {
   "cell_type": "code",
   "execution_count": 9,
   "metadata": {},
   "outputs": [
    {
     "name": "stdout",
     "output_type": "stream",
     "text": [
      "837729 total passages\n",
      "Passages saved to msmarco_v1_docs.json\n"
     ]
    }
   ],
   "source": [
    "from data_prep import save_passages_to_file\n",
    "\n",
    "# Combine both train, test, and validation passages to get all passages in one list\n",
    "database_passages_train = [passage for row in database_dataset_train for passage in row['passages']['passage_text']]\n",
    "database_passages_test = [passage for row in database_dataset_test for passage in row['passages']['passage_text']]\n",
    "database_passages_val = [passage for row in database_dataset_val for passage in row['passages']['passage_text']]\n",
    "all_passages = database_passages_train + database_passages_test + database_passages_val\n",
    "print(len(all_passages), \"total passages\")\n",
    "\n",
    "# Save to a JSON file\n",
    "save_passages_to_file(all_passages, 'msmarco_v1_docs.json')\n"
   ]
  },
  {
   "cell_type": "code",
   "execution_count": 37,
   "metadata": {},
   "outputs": [
    {
     "name": "stdout",
     "output_type": "stream",
     "text": [
      "Passage 1: Since 2007, the RBA's outstanding reputation has been affected by the 'Securency' or NPA scandal. These RBA subsidiaries were involved in bribing overseas officials so that Australia might win lucrative note-printing contracts. The assets of the bank include the gold and foreign exchange reserves of Australia, which is estimated to have a net worth of A$101 billion. Nearly 94% of the RBA's employees work at its headquarters in Sydney, New South Wales and at the Business Resumption Site.\n",
      "----------------------------------------\n",
      "Passage 2: The Reserve Bank of Australia (RBA) came into being on 14 January 1960 as Australia 's central bank and banknote issuing authority, when the Reserve Bank Act 1959 removed the central banking functions from the Commonwealth Bank. The assets of the bank include the gold and foreign exchange reserves of Australia, which is estimated to have a net worth of A$101 billion. Nearly 94% of the RBA's employees work at its headquarters in Sydney, New South Wales and at the Business Resumption Site.\n",
      "----------------------------------------\n",
      "Passage 3: RBA Recognized with the 2014 Microsoft US Regional Partner of the ... by PR Newswire. Contract Awarded for supply and support the. Securitisations System used for risk management and analysis. \n",
      "----------------------------------------\n",
      "Passage 4: The inner workings of a rebuildable atomizer are surprisingly simple. The coil inside the RBA is made of some type of resistance wire, normally Kanthal or nichrome. When a current is applied to the coil (resistance wire), it heats up and the heated coil then vaporizes the eliquid. 1 The bottom feed RBA is, perhaps, the easiest of all RBA types to build, maintain, and use. 2  It is filled from below, much like bottom coil clearomizer. 3  Bottom feed RBAs can utilize cotton instead of silica for the wick. 4  The Genesis, or genny, is a top feed RBA that utilizes a short woven mesh wire.\n",
      "----------------------------------------\n",
      "Passage 5: Results-Based Accountability® (also known as RBA) is a disciplined way of thinking and taking action that communities can use to improve the lives of children, youth, families, adults and the community as a whole. RBA is also used by organizations to improve the performance of their programs. RBA improves the lives of children, families, and communities and the performance of programs because RBA: 1  Gets from talk to action quickly; 2  Is a simple, common sense process that everyone can understand; 3  Helps groups to surface and challenge assumptions that can be barriers to innovation;\n",
      "----------------------------------------\n",
      "Passage 6: Results-Based Accountability® (also known as RBA) is a disciplined way of thinking and taking action that communities can use to improve the lives of children, youth, families, adults and the community as a whole. RBA is also used by organizations to improve the performance of their programs. Creating Community Impact with RBA. Community impact focuses on conditions of well-being for children, families and the community as a whole that a group of leaders is working collectively to improve. For example: “Residents with good jobs,” “Children ready for school,” or “A safe and clean neighborhood”.\n",
      "----------------------------------------\n",
      "Passage 7: RBA uses a data-driven, decision-making process to help communities and organizations get beyond talking about problems to taking action to solve problems. It is a simple, common sense framework that everyone can understand. RBA starts with ends and works backward, towards means. The “end” or difference you are trying to make looks slightly different if you are working on a broad community level or are focusing on your specific program or organization. RBA improves the lives of children, families, and communities and the performance of programs because RBA: 1  Gets from talk to action quickly; 2  Is a simple, common sense process that everyone can understand; 3  Helps groups to surface and challenge assumptions that can be barriers to innovation;\n",
      "----------------------------------------\n",
      "Passage 8: vs. NetIQ Identity Manager. Risk-based authentication (RBA) is a method of applying varying levels of stringency to authentication processes based on the likelihood that access to a given system could result in its being compromised. Risk-based authentication can be categorized as either user-dependent or transaction-dependent. User-dependent RBA processes employ the same authentication for every session initiated by a given user; the exact credentials that the site demands depend on who the user is.\n",
      "----------------------------------------\n",
      "Passage 9: A rebuildable atomizer (RBA), often referred to as simply a “rebuildable,” is just a special type of atomizer used in the Vape Pen and Mod Industry that connects to a personal vaporizer. 1 The bottom feed RBA is, perhaps, the easiest of all RBA types to build, maintain, and use. 2  It is filled from below, much like bottom coil clearomizer. 3  Bottom feed RBAs can utilize cotton instead of silica for the wick. 4  The Genesis, or genny, is a top feed RBA that utilizes a short woven mesh wire.\n",
      "----------------------------------------\n",
      "Passage 10: Get To Know Us. RBA is a digital and technology consultancy with roots in strategy, design and technology. Our team of specialists help progressive companies deliver modern digital experiences backed by proven technology engineering. \n",
      "----------------------------------------\n",
      "Passage 11: In his younger years, Ronald Reagan was a member of the Democratic Party and campaigned for Democratic candidates; however, his views grew more conservative over time, and in the early 1960s he officially became a Republican. In November 1984, Ronald Reagan was reelected in a landslide, defeating Walter Mondale and his running mate Geraldine Ferraro (1935-), the first female vice-presidential candidate from a major U.S. political party.\n",
      "----------------------------------------\n",
      "Passage 12: From Wikipedia, the free encyclopedia. A Reagan Democrat is a traditionally Democratic voter in the United States, especially a white working-class Northerner, who defected from their party to support Republican President Ronald Reagan in either or both the 1980 and 1984 elections. During the 1980 election a dramatic number of voters in the U.S., disillusioned with the economic 'malaise' of the 1970s and the presidency of Jimmy Carter (even more than, four years earlier, Liberal Republican Gerald Ford), supported former California governor (and former Democrat) Ronald Reagan.\n",
      "----------------------------------------\n",
      "Passage 13: Ronald Reagan began his political life in the Democratic Party, but as he became more and more conservative, he ultimately changed to the Republican Party in the early 1960s. Yes, he switched parties in 1962. He said that he did not desert the Democrats but rather they deserted him. Yes, Ronald Reagan was a member of the Democratic Party until he s … witched to the Republican Party in 1962, at the age of 51. 8 people found this useful.\n",
      "----------------------------------------\n",
      "Passage 14: Ronald Wilson Reagan (/ˈrɒnəld ˈwɪlsən ˈreɪɡən/ ; February 6, 1911 – June 5, 2004) was an American politician, commentator, and actor, who served as the 40th President of the United States from 1981 to 1989. I think Ronald Reagan changed the trajectory of America in a way that Richard Nixon did not and in a way that Bill Clinton did not. He put us on a fundamentally different path because the country was ready for it.\n",
      "----------------------------------------\n",
      "Passage 15: When Reagan was a 'liberal Democrat'. In 1948, a very different sounding Ronald Reagan campaigned on the radio for Democrat Harry Truman. Listen to the old audio recording. ... more Duration: {{video.duration.momentjs}}. \n",
      "----------------------------------------\n"
     ]
    }
   ],
   "source": [
    "for i, passage in enumerate(all_passages[:15]):\n",
    "    print(f\"Passage {i+1}: {passage}\\n{'-'*40}\")"
   ]
  },
  {
   "cell_type": "code",
   "execution_count": null,
   "metadata": {},
   "outputs": [
    {
     "name": "stdout",
     "output_type": "stream",
     "text": [
      "Loaded 755369 passages from all_docs.json\n",
      "[\"Since 2007, the RBA's outstanding reputation has been affected by the 'Securency' or NPA scandal. These RBA subsidiaries were involved in bribing overseas officials so that Australia might win lucrative note-printing contracts. The assets of the bank include the gold and foreign exchange reserves of Australia, which is estimated to have a net worth of A$101 billion. Nearly 94% of the RBA's employees work at its headquarters in Sydney, New South Wales and at the Business Resumption Site.\", \"The Reserve Bank of Australia (RBA) came into being on 14 January 1960 as Australia 's central bank and banknote issuing authority, when the Reserve Bank Act 1959 removed the central banking functions from the Commonwealth Bank. The assets of the bank include the gold and foreign exchange reserves of Australia, which is estimated to have a net worth of A$101 billion. Nearly 94% of the RBA's employees work at its headquarters in Sydney, New South Wales and at the Business Resumption Site.\", 'RBA Recognized with the 2014 Microsoft US Regional Partner of the ... by PR Newswire. Contract Awarded for supply and support the. Securitisations System used for risk management and analysis. ', 'The inner workings of a rebuildable atomizer are surprisingly simple. The coil inside the RBA is made of some type of resistance wire, normally Kanthal or nichrome. When a current is applied to the coil (resistance wire), it heats up and the heated coil then vaporizes the eliquid. 1 The bottom feed RBA is, perhaps, the easiest of all RBA types to build, maintain, and use. 2  It is filled from below, much like bottom coil clearomizer. 3  Bottom feed RBAs can utilize cotton instead of silica for the wick. 4  The Genesis, or genny, is a top feed RBA that utilizes a short woven mesh wire.', 'Results-Based Accountability® (also known as RBA) is a disciplined way of thinking and taking action that communities can use to improve the lives of children, youth, families, adults and the community as a whole. RBA is also used by organizations to improve the performance of their programs. RBA improves the lives of children, families, and communities and the performance of programs because RBA: 1  Gets from talk to action quickly; 2  Is a simple, common sense process that everyone can understand; 3  Helps groups to surface and challenge assumptions that can be barriers to innovation;', 'Results-Based Accountability® (also known as RBA) is a disciplined way of thinking and taking action that communities can use to improve the lives of children, youth, families, adults and the community as a whole. RBA is also used by organizations to improve the performance of their programs. Creating Community Impact with RBA. Community impact focuses on conditions of well-being for children, families and the community as a whole that a group of leaders is working collectively to improve. For example: “Residents with good jobs,” “Children ready for school,” or “A safe and clean neighborhood”.', 'RBA uses a data-driven, decision-making process to help communities and organizations get beyond talking about problems to taking action to solve problems. It is a simple, common sense framework that everyone can understand. RBA starts with ends and works backward, towards means. The “end” or difference you are trying to make looks slightly different if you are working on a broad community level or are focusing on your specific program or organization. RBA improves the lives of children, families, and communities and the performance of programs because RBA: 1  Gets from talk to action quickly; 2  Is a simple, common sense process that everyone can understand; 3  Helps groups to surface and challenge assumptions that can be barriers to innovation;', 'vs. NetIQ Identity Manager. Risk-based authentication (RBA) is a method of applying varying levels of stringency to authentication processes based on the likelihood that access to a given system could result in its being compromised. Risk-based authentication can be categorized as either user-dependent or transaction-dependent. User-dependent RBA processes employ the same authentication for every session initiated by a given user; the exact credentials that the site demands depend on who the user is.', 'A rebuildable atomizer (RBA), often referred to as simply a “rebuildable,” is just a special type of atomizer used in the Vape Pen and Mod Industry that connects to a personal vaporizer. 1 The bottom feed RBA is, perhaps, the easiest of all RBA types to build, maintain, and use. 2  It is filled from below, much like bottom coil clearomizer. 3  Bottom feed RBAs can utilize cotton instead of silica for the wick. 4  The Genesis, or genny, is a top feed RBA that utilizes a short woven mesh wire.', 'Get To Know Us. RBA is a digital and technology consultancy with roots in strategy, design and technology. Our team of specialists help progressive companies deliver modern digital experiences backed by proven technology engineering. ']\n"
     ]
    }
   ],
   "source": []
  }
 ],
 "metadata": {
  "kernelspec": {
   "display_name": "venv",
   "language": "python",
   "name": "python3"
  },
  "language_info": {
   "codemirror_mode": {
    "name": "ipython",
    "version": 3
   },
   "file_extension": ".py",
   "mimetype": "text/x-python",
   "name": "python",
   "nbconvert_exporter": "python",
   "pygments_lexer": "ipython3",
   "version": "3.11.9"
  }
 },
 "nbformat": 4,
 "nbformat_minor": 2
}
