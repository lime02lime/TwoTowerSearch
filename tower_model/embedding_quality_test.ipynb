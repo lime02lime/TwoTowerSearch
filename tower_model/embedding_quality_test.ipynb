{
 "cells": [
  {
   "cell_type": "code",
   "execution_count": 1,
   "id": "44bd7da4",
   "metadata": {},
   "outputs": [
    {
     "name": "stderr",
     "output_type": "stream",
     "text": [
      "c:\\Users\\emile\\Desktop\\Code\\MLX\\TwoTowerSearch\\venv\\Lib\\site-packages\\tqdm\\auto.py:21: TqdmWarning: IProgress not found. Please update jupyter and ipywidgets. See https://ipywidgets.readthedocs.io/en/stable/user_install.html\n",
      "  from .autonotebook import tqdm as notebook_tqdm\n"
     ]
    }
   ],
   "source": [
    "from sentence_transformers import util\n",
    "import sys\n",
    "from pathlib import Path\n",
    "import torch\n",
    "\n",
    "# Add the project root to Python path\n",
    "project_root = str(Path.cwd().parent.parent)\n",
    "sys.path.append(project_root)\n",
    "\n",
    "from week_2.data_preparation.data_prep import load_triplets_from_json\n",
    "from week_2.data_preparation.data_prep import load_passages_from_file\n",
    "from model import DualTowerWithFC, TripletLoss"
   ]
  },
  {
   "cell_type": "code",
   "execution_count": 3,
   "id": "8bf0cee9",
   "metadata": {},
   "outputs": [
    {
     "data": {
      "text/plain": [
       "DualTowerWithFC(\n",
       "  (embedding_model): SentenceTransformer(\n",
       "    (0): Transformer({'max_seq_length': 512, 'do_lower_case': False}) with Transformer model: BertModel \n",
       "    (1): Pooling({'word_embedding_dimension': 384, 'pooling_mode_cls_token': False, 'pooling_mode_mean_tokens': True, 'pooling_mode_max_tokens': False, 'pooling_mode_mean_sqrt_len_tokens': False, 'pooling_mode_weightedmean_tokens': False, 'pooling_mode_lasttoken': False, 'include_prompt': True})\n",
       "    (2): Normalize()\n",
       "  )\n",
       "  (fc_query): Sequential(\n",
       "    (0): Linear(in_features=384, out_features=384, bias=True)\n",
       "    (1): ReLU()\n",
       "    (2): Dropout(p=0.1, inplace=False)\n",
       "    (3): Linear(in_features=384, out_features=384, bias=True)\n",
       "    (4): ReLU()\n",
       "    (5): Dropout(p=0.5, inplace=False)\n",
       "    (6): Linear(in_features=384, out_features=384, bias=True)\n",
       "    (7): ReLU()\n",
       "  )\n",
       "  (fc_doc): Sequential(\n",
       "    (0): Linear(in_features=384, out_features=384, bias=True)\n",
       "    (1): ReLU()\n",
       "    (2): Dropout(p=0.1, inplace=False)\n",
       "    (3): Linear(in_features=384, out_features=384, bias=True)\n",
       "    (4): ReLU()\n",
       "    (5): Dropout(p=0.5, inplace=False)\n",
       "    (6): Linear(in_features=384, out_features=384, bias=True)\n",
       "    (7): ReLU()\n",
       "  )\n",
       ")"
      ]
     },
     "execution_count": 3,
     "metadata": {},
     "output_type": "execute_result"
    }
   ],
   "source": [
    "model = DualTowerWithFC()\n",
    "model.load_state_dict(torch.load(\"dual_tower_model_base_384D.pt\", map_location=torch.device('cpu')))\n",
    "#model.to(\"cuda\")\n",
    "model.eval()"
   ]
  },
  {
   "cell_type": "code",
   "execution_count": null,
   "id": "cfbab637",
   "metadata": {},
   "outputs": [
    {
     "name": "stdout",
     "output_type": "stream",
     "text": [
      "Positive similarity: 0.9823693037033081\n",
      "Negative similarity: 0.9634515047073364\n"
     ]
    }
   ],
   "source": [
    "query = \"What did Einstein discover?\"\n",
    "positive_doc = \"Einstein developed the theory of relativity.\"\n",
    "negative_doc = \"Einstein was a physicist that won the nobel prize in 1921.\"\n",
    "\n",
    "query_embedding = model(query, tower_type=\"query\").to(\"cuda\")\n",
    "pos_embedding = model(positive_doc, tower_type=\"doc\").to(\"cuda\")\n",
    "neg_embedding = model(negative_doc, tower_type=\"doc\").to(\"cuda\")\n",
    "\n",
    "pos_score = util.cos_sim(query_embedding, pos_embedding)\n",
    "neg_score = util.cos_sim(query_embedding, neg_embedding)\n",
    "\n",
    "print(\"Positive similarity:\", pos_score.item())\n",
    "print(\"Negative similarity:\", neg_score.item())\n"
   ]
  },
  {
   "cell_type": "code",
   "execution_count": null,
   "id": "26620ace",
   "metadata": {},
   "outputs": [],
   "source": []
  },
  {
   "cell_type": "code",
   "execution_count": 10,
   "id": "52c7b533",
   "metadata": {},
   "outputs": [
    {
     "name": "stdout",
     "output_type": "stream",
     "text": [
      "Loaded 9078734 passages from /root/TwoTowerSearch/week_2/data_preparation/all_docs.json\n"
     ]
    }
   ],
   "source": [
    "# Set up paths\n",
    "project_root = Path.cwd().parent / \"data_preparation\"\n",
    "all_docs_path = project_root / \"all_docs.json\"\n",
    "\n",
    "all_passages = load_passages_from_file(str(all_docs_path))[:5_000_000]\n"
   ]
  },
  {
   "cell_type": "code",
   "execution_count": 26,
   "id": "6a42703f",
   "metadata": {},
   "outputs": [
    {
     "name": "stdout",
     "output_type": "stream",
     "text": [
      "Found 1643 passages containing the keyword 'einstein'.\n",
      "Passage 1: It is said that Einstein had the IQ of 160 and that is not the most gifted or Immeasurable genius. The higher IQ rating is a natural and innate ability that can be improved. But it can not be claimed to be a definite measure of success. In other words a higher IQ rating can’t guarantee a success in your life.\n",
      "Passage 2: Einstein was considered to only have an IQ of about 160. Mensa is a society for people with high IQ, in the top 2% (1 in 50). In 1926, psychologist Catherine Morris Cox published a study of the most eminent men and women who had lived between 1450 and 1850 to estimate what their IQs might have been.\n",
      "Passage 3: 12 Answers. I have looked at all of the answers and some of those in other sources and none of the answers seem to capture the emotion of watershed moment . The aha or epiphany moment, the eureka moment... a discovery or the moment of change. ex. The moment Einstein envisioned the theory of relativity.\n",
      "Passage 4: In October 6, 2005, Weinstein sued the United States Air Force for failing to prevent religious proselytizing in the U.S. Air Force. U.S. District Judge James A. Parker dismissed the case of Weinstein v. U.S. Air Force and wrote:einstein was named Americans United for Separation of Church and State 's 2011 Person of the Year at a ceremony in Washington, D.C., on November 7, 2011. In December 2012, Weinstein was named one of the 100 Most Influential People in U.S. Defense by Defense News.\n",
      "Passage 5: (plängk) German physicist who in 1900 formulated quantum theory, which explained and predicted certain phenomena that could not be accounted for in classical physics. Planck's theory was essential to the work of Albert Einstein, Niels Bohr, and many other modern physicists. In 1918 he won the Nobel Prize for physics.\n"
     ]
    }
   ],
   "source": [
    "# simply look through this list of strings and return those containing \"Einstein\".lower()\n",
    "def filter_passages_by_keyword(passages, keyword):\n",
    "    return [passage for passage in passages if keyword.lower() in passage.lower()]\n",
    "\n",
    "\n",
    "keyword = \"einstein\"\n",
    "filtered_passages = filter_passages_by_keyword(all_passages, keyword)\n",
    "\n",
    "print(f\"Found {len(filtered_passages)} passages containing the keyword '{keyword}'.\")\n",
    "# print the first 5 passages\n",
    "for i, passage in enumerate(filtered_passages[:5]):\n",
    "    print(f\"Passage {i+1}: {passage}\")\n",
    "\n",
    "# now cosine similarity keyword with each of the filtered passages\n",
    "filtered_embeddings = []\n",
    "for passage in filtered_passages:\n",
    "    passage_embedding = model(passage, tower_type=\"doc\").to(\"cuda\")\n",
    "    filtered_embeddings.append(passage_embedding)\n"
   ]
  },
  {
   "cell_type": "code",
   "execution_count": 33,
   "id": "1f4caa83",
   "metadata": {},
   "outputs": [
    {
     "name": "stdout",
     "output_type": "stream",
     "text": [
      "Top 5 passages:\n",
      "Passage 1: Albert Einstein had an IQ level in the range of 160-190. But there are others having more Iq than him: Garry Kasparov (IQ Level – 190) This man needs no intro....the master of chess. Philip Emeagwali (IQ Level- 190) This man is an engineer, mathematician and geologist who used the Connection Machine supercomputer to analyze petroleum fields. (similarity: 0.95863938331604)\n",
      "Passage 2: According to NDTV, Albert Einstein had an IQ of 160. Most people score between 70 and 130, or nowhere near Einstein’s suggested IQ. The young genius has since joined Mensa, a high IQ society, and looks forward to meeting other people with interests similar to his own. (similarity: 0.9548270106315613)\n",
      "Passage 3: It appears that both Albert Einstein and Stephen Hawking share the IQ of 160. To my knowledge the maximum score is 162, at least on most reputable tests. Although he does not have the maximum score, it is most certainly a more than respectable IQ. (similarity: 0.9506563544273376)\n",
      "Passage 4: The highest IQ ever to be scored in the advanced IQ test was by Abdesselam Jelloul. Who scored an adult IQ of 198 in a 2012 test which included 13 dimensions of intelligence (analytical, spatial, logical, memory, musical, linguistic, philosophical, moral, spiritual, interpersonal, intra-personal, bodily and naturalist).im was listed in the Guinness Book of World Records under Highest IQ; the book estimated the boy's score at about 210. Albert Einstein was considered to only have an IQ of about 160. (similarity: 0.9502334594726562)\n",
      "Passage 5: The 11-year-old boy scored an IQ of 162. According to NDTV, Albert Einstein had an IQ of 160. Most people score between 70 and 130, or nowhere near Einstein’s suggested IQ. The young genius has since joined Mensa, a high IQ society, and looks forward to meeting other people with interests similar to his own. (similarity: 0.9473231434822083)\n"
     ]
    }
   ],
   "source": [
    "query = \"what IQ did albert einstein have?\"\n",
    "query_embedding = model(query, tower_type=\"query\").to(\"cuda\")\n",
    "\n",
    "# calculate cosine similarity\n",
    "similarities = []\n",
    "for passage_embedding in filtered_embeddings:\n",
    "    similarity = util.cos_sim(query_embedding, passage_embedding)\n",
    "    similarities.append(similarity.item())\n",
    "\n",
    "# sort the passages by similarity\n",
    "sorted_passages = sorted(zip(filtered_passages, similarities), key=lambda x: x[1], reverse=True)\n",
    "# print the top 5 passages\n",
    "print(\"Top 5 passages:\")\n",
    "for i, (passage, similarity) in enumerate(sorted_passages[:5]):\n",
    "    print(f\"Passage {i+1}: {passage} (similarity: {similarity})\")\n",
    "\n"
   ]
  }
 ],
 "metadata": {
  "kernelspec": {
   "display_name": "venv",
   "language": "python",
   "name": "python3"
  },
  "language_info": {
   "codemirror_mode": {
    "name": "ipython",
    "version": 3
   },
   "file_extension": ".py",
   "mimetype": "text/x-python",
   "name": "python",
   "nbconvert_exporter": "python",
   "pygments_lexer": "ipython3",
   "version": "3.11.9"
  }
 },
 "nbformat": 4,
 "nbformat_minor": 5
}
